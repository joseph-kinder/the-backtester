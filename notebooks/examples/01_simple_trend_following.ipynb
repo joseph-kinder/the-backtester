{
 "cells": [
  {
   "cell_type": "markdown",
   "metadata": {},
   "source": [
    "# Simple Trend Following Strategy Example\n",
    "\n",
    "This notebook demonstrates a basic trend following strategy using moving averages."
   ]
  },
  {
   "cell_type": "code",
   "execution_count": null,
   "metadata": {},
   "outputs": [],
   "source": [
    "# Import required libraries\n",
    "from crypto_backtest import run_backtest, load_data\n",
    "from crypto_backtest.features import sma, ema, rsi, atr\n",
    "import pandas as pd\n",
    "import numpy as np"
   ]
  },
  {
   "cell_type": "code",
   "execution_count": null,
   "metadata": {},
   "outputs": [],
   "source": [
    "# Configuration\n",
    "SYMBOL = 'BTC/USDT'\n",
    "EXCHANGE = 'binance'\n",
    "TIMEFRAME = '1h'\n",
    "START_DATE = '2024-01-01'\n",
    "END_DATE = '2024-06-30'\n",
    "INITIAL_CAPITAL = 10000"
   ]
  },
  {
   "cell_type": "code",
   "execution_count": null,
   "metadata": {},
   "outputs": [],
   "source": [
    "# Load data\n",
    "print(\"Loading data...\")\n",
    "data = load_data([SYMBOL], EXCHANGE, TIMEFRAME, START_DATE, END_DATE)\n",
    "print(f\"Loaded {len(data[SYMBOL]['ohlcv'])} bars\")"
   ]
  },
  {
   "cell_type": "code",
   "execution_count": null,
   "metadata": {},
   "outputs": [],
   "source": [
    "# Define trend following strategy\n",
    "def trend_following_strategy(data, position, timestamp, **params):\n",
    "    \"\"\"\n",
    "    Simple trend following strategy using dual moving averages\n",
    "    \"\"\"\n",
    "    # Get price data\n",
    "    ohlcv = data[SYMBOL]['ohlcv']\n",
    "    if len(ohlcv) < params['slow_ma']:\n",
    "        return []  # Not enough data\n",
    "    \n",
    "    # Calculate indicators\n",
    "    close = ohlcv['close']\n",
    "    fast_ma = sma(close, params['fast_ma'])\n",
    "    slow_ma = sma(close, params['slow_ma'])\n",
    "    rsi_val = rsi(close, params['rsi_period'])\n",
    "    \n",
    "    # Get current values\n",
    "    current_fast = fast_ma.iloc[-1]\n",
    "    current_slow = slow_ma.iloc[-1]\n",
    "    current_rsi = rsi_val.iloc[-1]\n",
    "    current_pos = position.get(SYMBOL, 0)\n",
    "    \n",
    "    # Generate signals\n",
    "    if current_fast > current_slow and current_rsi < params['rsi_overbought']:\n",
    "        if current_pos == 0:\n",
    "            # Enter long position\n",
    "            return [{'symbol': SYMBOL, 'side': 'buy', 'size': params['position_size']}]\n",
    "    \n",
    "    elif current_fast < current_slow or current_rsi > params['rsi_overbought']:\n",
    "        if current_pos > 0:\n",
    "            # Exit long position\n",
    "            return [{'symbol': SYMBOL, 'side': 'sell', 'size': current_pos}]\n",
    "    \n",
    "    return []"
   ]
  },
  {
   "cell_type": "code",
   "execution_count": null,
   "metadata": {},
   "outputs": [],
   "source": [
    "# Define strategy parameters\n",
    "params = {\n",
    "    'fast_ma': 20,\n",
    "    'slow_ma': 50,\n",
    "    'rsi_period': 14,\n",
    "    'rsi_overbought': 70,\n",
    "    'position_size': 0.1  # 0.1 BTC per trade\n",
    "}"
   ]
  },
  {
   "cell_type": "code",
   "execution_count": null,
   "metadata": {},
   "outputs": [],
   "source": [
    "# Run backtest\n",
    "print(\"Running backtest...\")\n",
    "results = run_backtest(\n",
    "    data=data,\n",
    "    strategy=trend_following_strategy,\n",
    "    initial_capital=INITIAL_CAPITAL,\n",
    "    params=params,\n",
    "    commission=0.001  # 0.1% commission\n",
    ")"
   ]
  },
  {
   "cell_type": "code",
   "execution_count": null,
   "metadata": {},
   "outputs": [],
   "source": [
    "# Display results summary\n",
    "print(results.summary())"
   ]
  },
  {
   "cell_type": "code",
   "execution_count": null,
   "metadata": {},
   "outputs": [],
   "source": [
    "# Plot results\n",
    "results.plot()"
   ]
  },
  {
   "cell_type": "markdown",
   "metadata": {},
   "source": [
    "## Parameter Optimization\n",
    "\n",
    "Let's optimize the strategy parameters to find the best combination."
   ]
  },
  {
   "cell_type": "code",
   "execution_count": null,
   "metadata": {},
   "outputs": [],
   "source": [
    "from crypto_backtest import optimize_strategy\n",
    "\n",
    "# Define parameter search space\n",
    "param_space = {\n",
    "    'fast_ma': (10, 30),\n",
    "    'slow_ma': (40, 100),\n",
    "    'rsi_period': (10, 20),\n",
    "    'rsi_overbought': (65, 80),\n",
    "    'position_size': (0.05, 0.2)\n",
    "}\n",
    "\n",
    "# Run optimization\n",
    "print(\"Running parameter optimization...\")\n",
    "opt_results = optimize_strategy(\n",
    "    data=data,\n",
    "    strategy=trend_following_strategy,\n",
    "    param_space=param_space,\n",
    "    metric='sharpe_ratio',\n",
    "    n_trials=50,\n",
    "    initial_capital=INITIAL_CAPITAL\n",
    ")\n",
    "\n",
    "print(f\"\\nBest parameters: {opt_results['best_params']}\")\n",
    "print(f\"Best Sharpe ratio: {opt_results['best_value']:.2f}\")"
   ]
  },
  {
   "cell_type": "code",
   "execution_count": null,
   "metadata": {},
   "outputs": [],
   "source": [
    "# Display optimized results\n",
    "print(opt_results['final_results'].summary())\n",
    "opt_results['final_results'].plot()"
   ]
  }
 ],
 "metadata": {
  "kernelspec": {
   "display_name": "Python 3",
   "language": "python",
   "name": "python3"
  },
  "language_info": {
   "codemirror_mode": {
    "name": "ipython",
    "version": 3
   },
   "file_extension": ".py",
   "mimetype": "text/x-python",
   "name": "python",
   "nbconvert_exporter": "python",
   "pygments_lexer": "ipython3",
   "version": "3.8.0"
  }
 },
 "nbformat": 4,
 "nbformat_minor": 4
}
