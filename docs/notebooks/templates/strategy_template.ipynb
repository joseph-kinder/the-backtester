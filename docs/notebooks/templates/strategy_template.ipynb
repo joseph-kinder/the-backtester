{
 "cells": [
  {
   "cell_type": "markdown",
   "metadata": {},
   "source": [
    "# Crypto Strategy Backtest Template\n",
    "\n",
    "This template provides a starting point for developing cryptocurrency trading strategies."
   ]
  },
  {
   "cell_type": "code",
   "execution_count": null,
   "metadata": {},
   "outputs": [],
   "source": [
    "# Imports\n",
    "from crypto_backtest import run_backtest, load_data, optimize_strategy\n",
    "from crypto_backtest.features import *  # Import all features\n",
    "import pandas as pd\n",
    "import numpy as np"
   ]
  },
  {
   "cell_type": "code",
   "execution_count": null,
   "metadata": {},
   "outputs": [],
   "source": [
    "# Configuration\n",
    "SYMBOLS = ['BTC/USDT', 'ETH/USDT']\n",
    "EXCHANGE = 'binance'\n",
    "TIMEFRAME = '5m'\n",
    "START_DATE = '2024-01-01'\n",
    "END_DATE = '2024-12-31'\n",
    "INITIAL_CAPITAL = 10000"
   ]
  },
  {
   "cell_type": "code",
   "execution_count": null,
   "metadata": {},
   "outputs": [],
   "source": [
    "# Load data\n",
    "print(\"Loading data...\")\n",
    "data = load_data(SYMBOLS, EXCHANGE, TIMEFRAME, START_DATE, END_DATE)"
   ]
  },
  {
   "cell_type": "code",
   "execution_count": null,
   "metadata": {},
   "outputs": [],
   "source": [
    "# Strategy definition\n",
    "def my_strategy(data, position, timestamp, **params):\n",
    "    \"\"\"\n",
    "    Your strategy logic here\n",
    "    \n",
    "    Args:\n",
    "        data: Dict of market data up to current timestamp\n",
    "        position: Current position state\n",
    "        timestamp: Current timestamp\n",
    "        **params: Strategy parameters\n",
    "    \n",
    "    Returns:\n",
    "        List of orders or 'close_all' or []\n",
    "    \"\"\"\n",
    "    # Example: Simple momentum strategy\n",
    "    btc_returns = data['BTC/USDT']['ohlcv']['close'].pct_change()\n",
    "    signal = sma(btc_returns, params['lookback'])\n",
    "    \n",
    "    if signal.iloc[-1] > params['threshold']:\n",
    "        return [{'symbol': 'BTC/USDT', 'side': 'buy', 'size': 0.1}]\n",
    "    elif signal.iloc[-1] < -params['threshold']:\n",
    "        return [{'symbol': 'BTC/USDT', 'side': 'sell', 'size': 0.1}]\n",
    "    \n",
    "    return []"
   ]
  },
  {
   "cell_type": "code",
   "execution_count": null,
   "metadata": {},
   "outputs": [],
   "source": [
    "# Define parameters\n",
    "params = {\n",
    "    'lookback': 20,\n",
    "    'threshold': 0.001\n",
    "}"
   ]
  },
  {
   "cell_type": "code",
   "execution_count": null,
   "metadata": {},
   "outputs": [],
   "source": [
    "# Run backtest\n",
    "print(\"Running backtest...\")\n",
    "results = run_backtest(\n",
    "    data=data,\n",
    "    strategy=my_strategy,\n",
    "    initial_capital=INITIAL_CAPITAL,\n",
    "    params=params\n",
    ")"
   ]
  },
  {
   "cell_type": "code",
   "execution_count": null,
   "metadata": {},
   "outputs": [],
   "source": [
    "# Show results\n",
    "results.plot()\n",
    "print(results.summary())"
   ]
  }
 ],
 "metadata": {
  "kernelspec": {
   "display_name": "Python 3",
   "language": "python",
   "name": "python3"
  },
  "language_info": {
   "codemirror_mode": {
    "name": "ipython",
    "version": 3
   },
   "file_extension": ".py",
   "mimetype": "text/x-python",
   "name": "python",
   "nbconvert_exporter": "python",
   "pygments_lexer": "ipython3",
   "version": "3.8.0"
  }
 },
 "nbformat": 4,
 "nbformat_minor": 4
}
